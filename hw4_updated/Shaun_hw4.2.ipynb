{
  "cells": [
    {
      "cell_type": "markdown",
      "metadata": {
        "id": "9XHd5ExbUIUg"
      },
      "source": [
        "# Pytorch with the MNIST Dataset - MINST"
      ]
    },
    {
      "cell_type": "code",
      "execution_count": 1,
      "metadata": {
        "id": "Su0COdCqT2Wk"
      },
      "outputs": [],
      "source": [
        "## import libraries\n",
        "from __future__ import print_function\n",
        "import argparse\n",
        "import torch\n",
        "import torch.nn as nn\n",
        "import torch.nn.functional as F\n",
        "import torchvision\n",
        "\n",
        "import torch.optim as optim\n",
        "from torchvision import datasets, transforms\n",
        "from torch.autograd import Variable"
      ]
    },
    {
      "cell_type": "code",
      "execution_count": 2,
      "metadata": {
        "id": "rXCYmmjyVRq5",
        "colab": {
          "base_uri": "https://localhost:8080/"
        },
        "outputId": "0c0ebb3e-5330-4657-e95f-eb5b56e478b7"
      },
      "outputs": [
        {
          "output_type": "stream",
          "name": "stdout",
          "text": [
            "2.2.1+cu121\n"
          ]
        }
      ],
      "source": [
        "print(torch.__version__)"
      ]
    },
    {
      "cell_type": "code",
      "execution_count": 3,
      "metadata": {
        "id": "Fp3VqwxU9teg"
      },
      "outputs": [],
      "source": [
        "args={}\n",
        "kwargs={}\n",
        "args['batch_size']=32\n",
        "args['test_batch_size']=32\n",
        "args['epochs']=1  #The number of Epochs is the number of times you go through the full dataset.\n",
        "args['lr']=0.01 #Learning rate is how fast it will decend.\n",
        "args['momentum']=0.5 #SGD momentum (default: 0.5) Momentum is a moving average of our gradients (helps to keep direction).\n",
        "\n",
        "args['seed']=1 #random seed\n",
        "args['log_interval']=10\n",
        "args['cuda']=True #if the computer has a GPU, type True, otherwise, False"
      ]
    },
    {
      "cell_type": "markdown",
      "metadata": {
        "id": "ys8268Yr6sAC"
      },
      "source": [
        "This code is adopted from the pytorch examples repository. It is licensed under BSD 3-Clause \"New\" or \"Revised\" License. Source: https://github.com/pytorch/examples/ LICENSE: https://github.com/pytorch/examples/blob/master/LICENSE"
      ]
    },
    {
      "cell_type": "markdown",
      "metadata": {
        "id": "hhuQyU7AYE6K"
      },
      "source": [
        "## Load Dataset\n",
        "The first step before training the model is to import the data. We will use the [MNIST dataset](http://yann.lecun.com/exdb/mnist/) which is like the Hello World dataset of machine learning.\n",
        "\n",
        "Besides importing the data, we will also do a few more things:\n",
        "- We will tranform the data into tensors using the `transforms` module\n",
        "- We will use `DataLoader` to build convenient data loaders or what are referred to as iterators, which makes it easy to efficiently feed data in batches to deep learning models.\n",
        "- As hinted above, we will also create batches of the data by setting the `batch` parameter inside the data loader. Notice we use batches of `32` in this tutorial but you can change it to `64` if you like. I encourage you to experiment with different batches."
      ]
    },
    {
      "cell_type": "code",
      "execution_count": 4,
      "metadata": {
        "id": "tSjjLXrOVWBy",
        "colab": {
          "base_uri": "https://localhost:8080/"
        },
        "outputId": "1e4512b3-f907-4cde-924b-38e5c2306b06"
      },
      "outputs": [
        {
          "output_type": "stream",
          "name": "stdout",
          "text": [
            "Downloading http://yann.lecun.com/exdb/mnist/train-images-idx3-ubyte.gz\n",
            "Downloading http://yann.lecun.com/exdb/mnist/train-images-idx3-ubyte.gz to ../data/MNIST/raw/train-images-idx3-ubyte.gz\n"
          ]
        },
        {
          "output_type": "stream",
          "name": "stderr",
          "text": [
            "100%|██████████| 9912422/9912422 [00:00<00:00, 102611991.99it/s]\n"
          ]
        },
        {
          "output_type": "stream",
          "name": "stdout",
          "text": [
            "Extracting ../data/MNIST/raw/train-images-idx3-ubyte.gz to ../data/MNIST/raw\n",
            "\n",
            "Downloading http://yann.lecun.com/exdb/mnist/train-labels-idx1-ubyte.gz\n",
            "Downloading http://yann.lecun.com/exdb/mnist/train-labels-idx1-ubyte.gz to ../data/MNIST/raw/train-labels-idx1-ubyte.gz\n"
          ]
        },
        {
          "output_type": "stream",
          "name": "stderr",
          "text": [
            "100%|██████████| 28881/28881 [00:00<00:00, 101114936.41it/s]\n"
          ]
        },
        {
          "output_type": "stream",
          "name": "stdout",
          "text": [
            "Extracting ../data/MNIST/raw/train-labels-idx1-ubyte.gz to ../data/MNIST/raw\n",
            "\n",
            "Downloading http://yann.lecun.com/exdb/mnist/t10k-images-idx3-ubyte.gz\n",
            "Downloading http://yann.lecun.com/exdb/mnist/t10k-images-idx3-ubyte.gz to ../data/MNIST/raw/t10k-images-idx3-ubyte.gz\n"
          ]
        },
        {
          "output_type": "stream",
          "name": "stderr",
          "text": [
            "100%|██████████| 1648877/1648877 [00:00<00:00, 31067298.85it/s]\n"
          ]
        },
        {
          "output_type": "stream",
          "name": "stdout",
          "text": [
            "Extracting ../data/MNIST/raw/t10k-images-idx3-ubyte.gz to ../data/MNIST/raw\n",
            "\n",
            "Downloading http://yann.lecun.com/exdb/mnist/t10k-labels-idx1-ubyte.gz\n",
            "Downloading http://yann.lecun.com/exdb/mnist/t10k-labels-idx1-ubyte.gz to ../data/MNIST/raw/t10k-labels-idx1-ubyte.gz\n"
          ]
        },
        {
          "output_type": "stream",
          "name": "stderr",
          "text": [
            "100%|██████████| 4542/4542 [00:00<00:00, 19885729.40it/s]"
          ]
        },
        {
          "output_type": "stream",
          "name": "stdout",
          "text": [
            "Extracting ../data/MNIST/raw/t10k-labels-idx1-ubyte.gz to ../data/MNIST/raw\n",
            "\n"
          ]
        },
        {
          "output_type": "stream",
          "name": "stderr",
          "text": [
            "\n"
          ]
        },
        {
          "output_type": "stream",
          "name": "stdout",
          "text": [
            "Downloading http://yann.lecun.com/exdb/mnist/train-images-idx3-ubyte.gz\n",
            "Downloading http://yann.lecun.com/exdb/mnist/train-images-idx3-ubyte.gz to ./data/MNIST/raw/train-images-idx3-ubyte.gz\n"
          ]
        },
        {
          "output_type": "stream",
          "name": "stderr",
          "text": [
            "100%|██████████| 9912422/9912422 [00:00<00:00, 116387177.74it/s]"
          ]
        },
        {
          "output_type": "stream",
          "name": "stdout",
          "text": [
            "Extracting ./data/MNIST/raw/train-images-idx3-ubyte.gz to ./data/MNIST/raw\n"
          ]
        },
        {
          "output_type": "stream",
          "name": "stderr",
          "text": [
            "\n"
          ]
        },
        {
          "output_type": "stream",
          "name": "stdout",
          "text": [
            "\n",
            "Downloading http://yann.lecun.com/exdb/mnist/train-labels-idx1-ubyte.gz\n",
            "Downloading http://yann.lecun.com/exdb/mnist/train-labels-idx1-ubyte.gz to ./data/MNIST/raw/train-labels-idx1-ubyte.gz\n"
          ]
        },
        {
          "output_type": "stream",
          "name": "stderr",
          "text": [
            "100%|██████████| 28881/28881 [00:00<00:00, 22553657.39it/s]\n"
          ]
        },
        {
          "output_type": "stream",
          "name": "stdout",
          "text": [
            "Extracting ./data/MNIST/raw/train-labels-idx1-ubyte.gz to ./data/MNIST/raw\n",
            "\n",
            "Downloading http://yann.lecun.com/exdb/mnist/t10k-images-idx3-ubyte.gz\n",
            "Downloading http://yann.lecun.com/exdb/mnist/t10k-images-idx3-ubyte.gz to ./data/MNIST/raw/t10k-images-idx3-ubyte.gz\n"
          ]
        },
        {
          "output_type": "stream",
          "name": "stderr",
          "text": [
            "100%|██████████| 1648877/1648877 [00:00<00:00, 31136674.85it/s]\n"
          ]
        },
        {
          "output_type": "stream",
          "name": "stdout",
          "text": [
            "Extracting ./data/MNIST/raw/t10k-images-idx3-ubyte.gz to ./data/MNIST/raw\n",
            "\n",
            "Downloading http://yann.lecun.com/exdb/mnist/t10k-labels-idx1-ubyte.gz\n",
            "Downloading http://yann.lecun.com/exdb/mnist/t10k-labels-idx1-ubyte.gz to ./data/MNIST/raw/t10k-labels-idx1-ubyte.gz\n"
          ]
        },
        {
          "output_type": "stream",
          "name": "stderr",
          "text": [
            "100%|██████████| 4542/4542 [00:00<00:00, 19379988.57it/s]"
          ]
        },
        {
          "output_type": "stream",
          "name": "stdout",
          "text": [
            "Extracting ./data/MNIST/raw/t10k-labels-idx1-ubyte.gz to ./data/MNIST/raw\n",
            "\n"
          ]
        },
        {
          "output_type": "stream",
          "name": "stderr",
          "text": [
            "\n"
          ]
        }
      ],
      "source": [
        "## transformations\n",
        "transform = transforms.Compose([\n",
        "                       transforms.ToTensor(),\n",
        "                       transforms.Normalize((0.1307,), (0.3081,))\n",
        "                   ])\n",
        "\n",
        "## download and load training dataset\n",
        "trainset = datasets.MNIST(root='../data', train=True, download=True, transform=transform)\n",
        "train_loader = torch.utils.data.DataLoader(trainset, batch_size=args['batch_size'], shuffle=True, **kwargs)\n",
        "\n",
        "## download and load testing dataset\n",
        "testset = torchvision.datasets.MNIST(root='./data', train=False, download=True, transform=transform)\n",
        "test_loader = torch.utils.data.DataLoader(testset, batch_size=args['test_batch_size'], shuffle=True, **kwargs)"
      ]
    },
    {
      "cell_type": "markdown",
      "metadata": {
        "id": "0nZwZukWXUDn"
      },
      "source": [
        "## Exploring the Data\n",
        "As a practioner and researcher, I am always spending a bit of time and effort exploring and understanding the dataset. It's fun and this is a good practise to ensure that everything is in order."
      ]
    },
    {
      "cell_type": "markdown",
      "metadata": {
        "id": "NW_loWKga7CH"
      },
      "source": [
        "Let's check what the train and test dataset contains. I will use `matplotlib` to print out some of the images from our dataset."
      ]
    },
    {
      "cell_type": "code",
      "execution_count": 5,
      "metadata": {
        "id": "zWd9Pt1Ca6K9",
        "colab": {
          "base_uri": "https://localhost:8080/",
          "height": 332
        },
        "outputId": "0e43a5e6-1cb9-49f3-fc40-829abc3d2b7c"
      },
      "outputs": [
        {
          "output_type": "stream",
          "name": "stderr",
          "text": [
            "WARNING:matplotlib.image:Clipping input data to the valid range for imshow with RGB data ([0..1] for floats or [0..255] for integers).\n"
          ]
        },
        {
          "output_type": "display_data",
          "data": {
            "text/plain": [
              "<Figure size 640x480 with 1 Axes>"
            ],
            "image/png": "[encoded data removed]"
          },
          "metadata": {}
        }
      ],
      "source": [
        "import matplotlib.pyplot as plt\n",
        "import numpy as np\n",
        "\n",
        "## functions to show an image\n",
        "def imshow(img):\n",
        "    #img = img / 2 + 0.5     # unnormalize\n",
        "    npimg = img.numpy()\n",
        "    plt.imshow(np.transpose(npimg, (1, 2, 0)))\n",
        "\n",
        "## get some random training images\n",
        "dataiter = iter(train_loader)\n",
        "images, labels = next(dataiter)\n",
        "\n",
        "## show images\n",
        "imshow(torchvision.utils.make_grid(images))"
      ]
    },
    {
      "cell_type": "markdown",
      "metadata": {
        "id": "d9mXAVmRvhrq"
      },
      "source": [
        "Let's check the dimensions of a batch."
      ]
    },
    {
      "cell_type": "code",
      "execution_count": 6,
      "metadata": {
        "id": "cNFKWz1GZ4R5",
        "colab": {
          "base_uri": "https://localhost:8080/"
        },
        "outputId": "ffd6b2af-421f-4fbe-cfde-08fef1065528"
      },
      "outputs": [
        {
          "output_type": "stream",
          "name": "stdout",
          "text": [
            "Image batch dimensions: torch.Size([32, 1, 28, 28])\n",
            "Image label dimensions: torch.Size([32])\n"
          ]
        }
      ],
      "source": [
        "for images, labels in train_loader:\n",
        "    print(\"Image batch dimensions:\", images.shape)\n",
        "    print(\"Image label dimensions:\", labels.shape)\n",
        "    break"
      ]
    },
    {
      "cell_type": "markdown",
      "metadata": {
        "id": "tmaCTw5tXowR"
      },
      "source": [
        "## The Model\n",
        "We provide two fully-connected neural net as the initial architecture.\n",
        "\n",
        "Here are a few notes for those who are beginning with PyTorch:\n",
        "- The model below consists of an `__init__()` portion which is where you include the layers and components of the neural network. In our model, we have two fully-connected netork network. We are dealing with an image dataset that is in a grayscale so we only need one channel going in, hence `in_channels=1`.\n",
        "\n",
        "- After the first layer, we also apply an activation function such as `ReLU`. For prediction purposes, we then apply a `softmax` layer to the last transformation and return the output of that.  "
      ]
    },
    {
      "cell_type": "code",
      "execution_count": 20,
      "metadata": {
        "id": "_IYnV4ZBa3cJ"
      },
      "outputs": [],
      "source": [
        "class Net(nn.Module):\n",
        "    #This defines the structure of the NN.\n",
        "    def __init__(self):\n",
        "        super(Net, self).__init__()\n",
        "        self.fc1 = nn.Linear(784, 256)\n",
        "        self.fc2 = nn.Linear(256, 10)\n",
        "\n",
        "    def forward(self, x):\n",
        "        x=x.view(-1,784)\n",
        "        x = F.relu(self.fc1(x))\n",
        "        x = self.fc2(x)\n",
        "\n",
        "        #Softmax gets probabilities.\n",
        "        return F.log_softmax(x, dim=1)\n"
      ]
    },
    {
      "cell_type": "markdown",
      "metadata": {
        "id": "ZqgR0prhZD3z"
      },
      "source": [
        "**Now, add one CNN layer with a pooling to the above neural network and rerun the code to see whether you get higher prediction accuracy on the test set.**\n",
        "\n",
        "For example, you may try `out_channels=32`. Kernel size is 5, and for the rest of parameters we use the default values which you can find [here](https://pytorch.org/docs/stable/nn.html?highlight=conv2d#conv2d).\n",
        "\n",
        "- In short, the convolutional layer transforms the input data into a specific dimension that has to be considered in the linear layer.\n",
        "\n",
        "Make sure your flatten the output of CNN layer excluding # of batch so that the input of each example/batch has the same size of the first neural net.\n",
        "\n",
        "Tips: You can use x.view(-1, # of input size of the first fully-connected layer) or you can use torch.flatten(x, 1)."
      ]
    },
    {
      "cell_type": "markdown",
      "metadata": {
        "id": "evsFbkq_X6bc"
      },
      "source": [
        "I always encourage to test the model with 1 batch to ensure that the output dimensions are what we expect."
      ]
    },
    {
      "cell_type": "code",
      "execution_count": 21,
      "metadata": {
        "id": "tRkFvePEZCHd"
      },
      "outputs": [],
      "source": [
        "class Net(nn.Module):\n",
        "    def __init__(self):\n",
        "        super(Net, self).__init__()\n",
        "        self.no_filter = 32\n",
        "        # Define the CNN layer with 1 input channel, 32 output channels, and kernel size 5x5\n",
        "        self.conv1 = nn.Conv2d(1, self.no_filter, kernel_size=5)\n",
        "        # Define the max pooling layer with kernel size 2x2\n",
        "        self.pool = nn.MaxPool2d(kernel_size=2, stride=2)\n",
        "        # Define the first fully connected layer with input size determined by the output size of the CNN layer\n",
        "        self.fc1 = nn.Linear(32 * 12 * 12, 256)  # 12x12 output size after applying 2x2 max pooling twice\n",
        "        # Define the second fully connected layer with input size 256 and output size 10\n",
        "        self.fc2 = nn.Linear(256, 10)\n",
        "\n",
        "    def forward(self, x):\n",
        "        # Apply the convolutional layer followed by ReLU activation and max pooling\n",
        "        x = self.pool(F.relu(self.conv1(x)))\n",
        "        # Flatten the output of the CNN layer\n",
        "        x = x.view(-1, 32 * 12 * 12)\n",
        "        # Apply the first fully connected layer followed by ReLU activation\n",
        "        x = F.relu(self.fc1(x))\n",
        "        # Apply the second fully connected layer\n",
        "        x = self.fc2(x)\n",
        "        # Apply log softmax to get probabilities\n",
        "        return F.log_softmax(x, dim=1)"
      ]
    },
    {
      "cell_type": "code",
      "execution_count": 22,
      "metadata": {
        "id": "1poxFYqftKov",
        "colab": {
          "base_uri": "https://localhost:8080/"
        },
        "outputId": "a5cf7cf4-3e97-43a0-d898-b4cb430d86ef"
      },
      "outputs": [
        {
          "output_type": "stream",
          "name": "stdout",
          "text": [
            "batch size: 32\n",
            "torch.Size([64, 10])\n"
          ]
        }
      ],
      "source": [
        "## test the model with 1 batch\n",
        "model = Net()\n",
        "#print(model)\n",
        "for images, labels in train_loader:\n",
        "    print(\"batch size:\", args['batch_size'])\n",
        "    out = model(images)\n",
        "    print(out.shape)\n",
        "    break"
      ]
    },
    {
      "cell_type": "markdown",
      "metadata": {
        "id": "9h_3eZQRHV_P"
      },
      "source": [
        "## Training the Model\n",
        "Now we are ready to train the model."
      ]
    },
    {
      "cell_type": "code",
      "execution_count": 23,
      "metadata": {
        "id": "E59hwZlAIVcL"
      },
      "outputs": [],
      "source": [
        "def train(epoch):\n",
        "    model.train()\n",
        "    for batch_idx, (data, target) in enumerate(train_loader):\n",
        "        if args['cuda']:\n",
        "            data, target = data.cuda(), target.cuda()\n",
        "        #Variables in Pytorch are differenciable.\n",
        "        data, target = Variable(data), Variable(target)\n",
        "        #This will zero out the gradients for this batch.\n",
        "        optimizer.zero_grad()\n",
        "        output = model(data)\n",
        "        # Calculate the loss The negative log likelihood loss. It is useful to train a classification problem with C classes.\n",
        "        loss = F.nll_loss(output, target)\n",
        "        #dloss/dx for every Variable\n",
        "        loss.backward()\n",
        "        #to do a one-step update on our parameter.\n",
        "        optimizer.step()\n",
        "        #Print out the loss periodically.\n",
        "        if batch_idx % args['log_interval'] == 0:\n",
        "            print('Train Epoch: {} [{}/{} ({:.0f}%)]\\tLoss: {:.6f}'.format(\n",
        "                epoch, batch_idx * len(data), len(train_loader.dataset),\n",
        "                100. * batch_idx / len(train_loader), loss.data.item()))"
      ]
    },
    {
      "cell_type": "code",
      "execution_count": 24,
      "metadata": {
        "id": "dmoO9DlN_Ir6"
      },
      "outputs": [],
      "source": [
        "def test():\n",
        "    model.eval()\n",
        "    test_loss = 0\n",
        "    correct = 0\n",
        "\n",
        "    with torch.no_grad():\n",
        "      for data, target in test_loader:\n",
        "          if args['cuda']:\n",
        "              data, target = data.cuda(), target.cuda()\n",
        "          data, target = Variable(data), Variable(target)\n",
        "          output = model(data)\n",
        "          test_loss += F.nll_loss(output, target, size_average=False).data.item() # sum up batch loss\n",
        "          pred = output.data.max(1, keepdim=True)[1] # get the index of the max log-probability\n",
        "          correct += pred.eq(target.data.view_as(pred)).long().cpu().sum()\n",
        "\n",
        "    test_loss /= len(test_loader.dataset)\n",
        "    print('\\nTest set: Average loss: {:.4f}, Accuracy: {}/{} ({:.0f}%)\\n'.format(\n",
        "        test_loss, correct, len(test_loader.dataset),\n",
        "        100. * correct / len(test_loader.dataset)))"
      ]
    },
    {
      "cell_type": "code",
      "execution_count": 25,
      "metadata": {
        "id": "PQcWwu_A_2gx",
        "colab": {
          "base_uri": "https://localhost:8080/"
        },
        "outputId": "cfddf035-d48d-45c6-b41d-0c60093743c4"
      },
      "outputs": [
        {
          "output_type": "stream",
          "name": "stdout",
          "text": [
            "Train Epoch: 1 [0/2000 (0%)]\tLoss: 2.297055\n",
            "Train Epoch: 1 [640/2000 (31%)]\tLoss: 2.253675\n",
            "Train Epoch: 1 [1280/2000 (62%)]\tLoss: 2.175015\n",
            "Train Epoch: 1 [1920/2000 (94%)]\tLoss: 2.102211\n"
          ]
        },
        {
          "output_type": "stream",
          "name": "stderr",
          "text": [
            "/usr/local/lib/python3.10/dist-packages/torch/nn/_reduction.py:42: UserWarning: size_average and reduce args will be deprecated, please use reduction='sum' instead.\n",
            "  warnings.warn(warning.format(ret))\n"
          ]
        },
        {
          "output_type": "stream",
          "name": "stdout",
          "text": [
            "\n",
            "Test set: Average loss: 1.6749, Accuracy: 6666/10000 (67%)\n",
            "\n"
          ]
        }
      ],
      "source": [
        "model = Net()\n",
        "if args['cuda']:\n",
        "    model.cuda()\n",
        "\n",
        "optimizer = optim.SGD(model.parameters(), lr=args['lr'], momentum=args['momentum'])\n",
        "\n",
        "for epoch in range(1, args['epochs'] + 1):\n",
        "    train(epoch)\n",
        "    test()"
      ]
    },
    {
      "cell_type": "code",
      "source": [
        "class Net(nn.Module):\n",
        "    # This defines the structure of the NN.\n",
        "    def __init__(self):\n",
        "        super(Net, self).__init__()\n",
        "        self.fc1 = nn.Linear(784, 256)\n",
        "        self.fc2 = nn.Linear(256, 10)\n",
        "\n",
        "    def forward(self, x):\n",
        "        x = x.view(-1, 784)\n",
        "        x = F.relu(self.fc1(x))\n",
        "        x = self.fc2(x)\n",
        "\n",
        "        # Softmax gets probabilities.\n",
        "        return F.log_softmax(x, dim=1)\n",
        "\n",
        "# Number of data points for training and validation\n",
        "train_size = 2000\n",
        "val_size = 100\n",
        "epochs = 12\n",
        "\n",
        "# Load MNIST dataset\n",
        "mnist_train = MNIST(root='./data', train=True, download=True, transform=ToTensor())\n",
        "mnist_val = MNIST(root='./data', train=False, download=True, transform=ToTensor())\n",
        "\n",
        "# Create indices for data sampling\n",
        "train_indices = torch.randperm(len(mnist_train)).tolist()[:train_size]\n",
        "val_indices = torch.randperm(len(mnist_val)).tolist()[:val_size]\n",
        "\n",
        "# Create subset datasets\n",
        "train_subset = Subset(mnist_train, train_indices)\n",
        "val_subset = Subset(mnist_val, val_indices)\n",
        "\n",
        "# Define batch sizes and learning rates to iterate over\n",
        "batch_sizes = [32, 64, 128]\n",
        "learning_rates = [0.001, 0.01, 0.1]\n",
        "\n",
        "# Training loop for different combinations of batch sizes and learning rates\n",
        "for batch_size in batch_sizes:\n",
        "    for learning_rate in learning_rates:\n",
        "        # Create data loaders\n",
        "        train_loader = DataLoader(train_subset, batch_size=batch_size, shuffle=True)\n",
        "        val_loader = DataLoader(val_subset, batch_size=batch_size, shuffle=False)\n",
        "\n",
        "        # Initialize model and optimizer\n",
        "        model = Net()\n",
        "        optimizer = torch.optim.Adam(model.parameters(), lr=learning_rate)\n",
        "\n",
        "        # Training loop\n",
        "        for epoch in range(epochs):\n",
        "            model.train()\n",
        "            for batch_idx, (data, target) in enumerate(train_loader):\n",
        "                optimizer.zero_grad()\n",
        "                output = model(data)\n",
        "                loss = F.nll_loss(output, target)\n",
        "                loss.backward()\n",
        "                optimizer.step()\n",
        "\n",
        "        # Validation loop\n",
        "        model.eval()\n",
        "        val_loss = 0\n",
        "        correct = 0\n",
        "        with torch.no_grad():\n",
        "            for data, target in val_loader:\n",
        "                output = model(data)\n",
        "                val_loss += F.nll_loss(output, target, reduction='sum').item()\n",
        "                pred = output.argmax(dim=1, keepdim=True)\n",
        "                correct += pred.eq(target.view_as(pred)).sum().item()\n",
        "\n",
        "        val_loss /= len(val_loader.dataset)\n",
        "        accuracy = correct / len(val_loader.dataset)\n",
        "\n",
        "        print(f'Batch Size: {batch_size}, Learning Rate: {learning_rate}, Validation Loss: {val_loss:.4f}, Accuracy: {accuracy:.4f}')"
      ],
      "metadata": {
        "colab": {
          "base_uri": "https://localhost:8080/"
        },
        "id": "cbs3kI0XkNHU",
        "outputId": "76318c05-645f-4951-83ee-3ea3b6b82689"
      },
      "execution_count": 11,
      "outputs": [
        {
          "output_type": "stream",
          "name": "stdout",
          "text": [
            "Batch Size: 32, Learning Rate: 0.001, Validation Loss: 0.5848, Accuracy: 0.9000\n",
            "Batch Size: 32, Learning Rate: 0.01, Validation Loss: 0.7800, Accuracy: 0.8900\n",
            "Batch Size: 32, Learning Rate: 0.1, Validation Loss: 1.7047, Accuracy: 0.6200\n",
            "Batch Size: 64, Learning Rate: 0.001, Validation Loss: 0.5919, Accuracy: 0.8900\n",
            "Batch Size: 64, Learning Rate: 0.01, Validation Loss: 0.5861, Accuracy: 0.9100\n",
            "Batch Size: 64, Learning Rate: 0.1, Validation Loss: 1.2183, Accuracy: 0.8000\n",
            "Batch Size: 128, Learning Rate: 0.001, Validation Loss: 0.5367, Accuracy: 0.9000\n",
            "Batch Size: 128, Learning Rate: 0.01, Validation Loss: 0.6271, Accuracy: 0.9100\n",
            "Batch Size: 128, Learning Rate: 0.1, Validation Loss: 0.9211, Accuracy: 0.8500\n"
          ]
        }
      ]
    },
    {
      "cell_type": "code",
      "source": [
        "  class Net(nn.Module):\n",
        "    # This defines the structure of the NN.\n",
        "    def __init__(self):\n",
        "        super(Net, self).__init__()\n",
        "        self.fc1 = nn.Linear(784, 256)\n",
        "        self.fc2 = nn.Linear(256, 10)\n",
        "\n",
        "    def forward(self, x):\n",
        "        x = x.view(-1, 784)\n",
        "        x = F.relu(self.fc1(x))\n",
        "        x = self.fc2(x)\n",
        "\n",
        "        # Softmax gets probabilities.\n",
        "        return F.log_softmax(x, dim=1)\n",
        "\n",
        "# Number of data points for training and validation\n",
        "train_size = 2000\n",
        "val_size = 100\n",
        "epochs = 12\n",
        "\n",
        "# Load MNIST dataset\n",
        "mnist_train = MNIST(root='./data', train=True, download=True, transform=ToTensor())\n",
        "mnist_val = MNIST(root='./data', train=False, download=True, transform=ToTensor())\n",
        "\n",
        "# Create indices for data sampling\n",
        "train_indices = torch.randperm(len(mnist_train)).tolist()[:train_size]\n",
        "val_indices = torch.randperm(len(mnist_val)).tolist()[:val_size]\n",
        "\n",
        "# Create subset datasets and data loaders\n",
        "train_subset = Subset(mnist_train, train_indices)\n",
        "val_subset = Subset(mnist_val, val_indices)\n",
        "\n",
        "train_loader = DataLoader(train_subset, batch_size=64, shuffle=True)\n",
        "val_loader = DataLoader(val_subset, batch_size=64, shuffle=False)\n",
        "\n",
        "# Define a list of activation functions and learning rates to try\n",
        "activation_functions = [F.relu, F.sigmoid, F.tanh]\n",
        "learning_rates = [0.001, 0.01, 0.1]\n",
        "\n",
        "# Loop over activation functions and learning rates\n",
        "for activation_fn in activation_functions:\n",
        "    for lr in learning_rates:\n",
        "        print(f\"\\nTraining with activation function: {activation_fn.__name__}, Learning rate: {lr}\")\n",
        "\n",
        "        # Initialize the model and optimizer\n",
        "        model = Net()\n",
        "        optimizer = torch.optim.Adam(model.parameters(), lr=lr)\n",
        "\n",
        "        # Training loop\n",
        "        for epoch in range(epochs):\n",
        "            model.train()\n",
        "            for batch_idx, (data, target) in enumerate(train_loader):\n",
        "                optimizer.zero_grad()\n",
        "                output = model(data)\n",
        "                loss = F.nll_loss(output, target)\n",
        "                loss.backward()\n",
        "                optimizer.step()\n",
        "\n",
        "        # Validation loop\n",
        "        model.eval()\n",
        "        val_loss = 0\n",
        "        correct = 0\n",
        "        with torch.no_grad():\n",
        "            for data, target in val_loader:\n",
        "                output = model(data)\n",
        "                val_loss += F.nll_loss(output, target, reduction='sum').item()\n",
        "                pred = output.argmax(dim=1, keepdim=True)\n",
        "                correct += pred.eq(target.view_as(pred)).sum().item()\n",
        "\n",
        "        val_loss /= len(val_loader.dataset)\n",
        "        accuracy = correct / len(val_loader.dataset)\n",
        "\n",
        "        print(f'Validation set: Average loss: {val_loss:.4f}, Accuracy: {accuracy:.4f}')"
      ],
      "metadata": {
        "colab": {
          "base_uri": "https://localhost:8080/"
        },
        "id": "C441VJ7okx2n",
        "outputId": "965854f4-04e3-479b-f78e-048a515201b4"
      },
      "execution_count": 12,
      "outputs": [
        {
          "output_type": "stream",
          "name": "stdout",
          "text": [
            "\n",
            "Training with activation function: relu, Learning rate: 0.001\n",
            "Validation set: Average loss: 0.5206, Accuracy: 0.8400\n",
            "\n",
            "Training with activation function: relu, Learning rate: 0.01\n",
            "Validation set: Average loss: 0.5577, Accuracy: 0.8900\n",
            "\n",
            "Training with activation function: relu, Learning rate: 0.1\n",
            "Validation set: Average loss: 0.9382, Accuracy: 0.7700\n",
            "\n",
            "Training with activation function: sigmoid, Learning rate: 0.001\n",
            "Validation set: Average loss: 0.4840, Accuracy: 0.8500\n",
            "\n",
            "Training with activation function: sigmoid, Learning rate: 0.01\n",
            "Validation set: Average loss: 0.6696, Accuracy: 0.8900\n",
            "\n",
            "Training with activation function: sigmoid, Learning rate: 0.1\n",
            "Validation set: Average loss: 1.2849, Accuracy: 0.7100\n",
            "\n",
            "Training with activation function: tanh, Learning rate: 0.001\n",
            "Validation set: Average loss: 0.4376, Accuracy: 0.8500\n",
            "\n",
            "Training with activation function: tanh, Learning rate: 0.01\n",
            "Validation set: Average loss: 0.6646, Accuracy: 0.8600\n",
            "\n",
            "Training with activation function: tanh, Learning rate: 0.1\n",
            "Validation set: Average loss: 1.1164, Accuracy: 0.7500\n"
          ]
        }
      ]
    },
    {
      "cell_type": "code",
      "source": [
        "import pandas as pd\n",
        "from tabulate import tabulate\n",
        "\n",
        "# Results data\n",
        "results = [\n",
        "    {\"Batch Size\": 32, \"Learning Rate\": 0.001, \"Validation Loss\": 0.5848, \"Accuracy\": 0.9000},\n",
        "    {\"Batch Size\": 32, \"Learning Rate\": 0.01, \"Validation Loss\": 0.7800, \"Accuracy\": 0.8900},\n",
        "    {\"Batch Size\": 32, \"Learning Rate\": 0.1, \"Validation Loss\": 1.7047, \"Accuracy\": 0.6200},\n",
        "    {\"Batch Size\": 64, \"Learning Rate\": 0.001, \"Validation Loss\": 0.5919, \"Accuracy\": 0.8900},\n",
        "    {\"Batch Size\": 64, \"Learning Rate\": 0.01, \"Validation Loss\": 0.5861, \"Accuracy\": 0.9100},\n",
        "    {\"Batch Size\": 64, \"Learning Rate\": 0.1, \"Validation Loss\": 1.2183, \"Accuracy\": 0.8000},\n",
        "    {\"Batch Size\": 128, \"Learning Rate\": 0.001, \"Validation Loss\": 0.5367, \"Accuracy\": 0.9000},\n",
        "    {\"Batch Size\": 128, \"Learning Rate\": 0.01, \"Validation Loss\": 0.6271, \"Accuracy\": 0.9100},\n",
        "    {\"Batch Size\": 128, \"Learning Rate\": 0.1, \"Validation Loss\": 0.9211, \"Accuracy\": 0.8500}\n",
        "]\n",
        "\n",
        "# Convert data to DataFrame\n",
        "df = pd.DataFrame(results)\n",
        "\n",
        "# Display as table\n",
        "print(tabulate(df, headers='keys', tablefmt='psql'))\n"
      ],
      "metadata": {
        "colab": {
          "base_uri": "https://localhost:8080/"
        },
        "id": "81hzby8koF4M",
        "outputId": "07edd695-3c99-42ec-9daf-fc59cc8da4fa"
      },
      "execution_count": 13,
      "outputs": [
        {
          "output_type": "stream",
          "name": "stdout",
          "text": [
            "+----+--------------+-----------------+-------------------+------------+\n",
            "|    |   Batch Size |   Learning Rate |   Validation Loss |   Accuracy |\n",
            "|----+--------------+-----------------+-------------------+------------|\n",
            "|  0 |           32 |           0.001 |            0.5848 |       0.9  |\n",
            "|  1 |           32 |           0.01  |            0.78   |       0.89 |\n",
            "|  2 |           32 |           0.1   |            1.7047 |       0.62 |\n",
            "|  3 |           64 |           0.001 |            0.5919 |       0.89 |\n",
            "|  4 |           64 |           0.01  |            0.5861 |       0.91 |\n",
            "|  5 |           64 |           0.1   |            1.2183 |       0.8  |\n",
            "|  6 |          128 |           0.001 |            0.5367 |       0.9  |\n",
            "|  7 |          128 |           0.01  |            0.6271 |       0.91 |\n",
            "|  8 |          128 |           0.1   |            0.9211 |       0.85 |\n",
            "+----+--------------+-----------------+-------------------+------------+\n"
          ]
        }
      ]
    },
    {
      "cell_type": "code",
      "source": [
        "from tabulate import tabulate\n",
        "\n",
        "# Results data\n",
        "results = [\n",
        "    {\"Activation Function\": \"relu\", \"Learning Rate\": 0.001, \"Validation Loss\": 0.5206, \"Accuracy\": 0.8400},\n",
        "    {\"Activation Function\": \"relu\", \"Learning Rate\": 0.01, \"Validation Loss\": 0.5577, \"Accuracy\": 0.8900},\n",
        "    {\"Activation Function\": \"relu\", \"Learning Rate\": 0.1, \"Validation Loss\": 0.9382, \"Accuracy\": 0.7700},\n",
        "    {\"Activation Function\": \"sigmoid\", \"Learning Rate\": 0.001, \"Validation Loss\": 0.4840, \"Accuracy\": 0.8500},\n",
        "    {\"Activation Function\": \"sigmoid\", \"Learning Rate\": 0.01, \"Validation Loss\": 0.6696, \"Accuracy\": 0.8900},\n",
        "    {\"Activation Function\": \"sigmoid\", \"Learning Rate\": 0.1, \"Validation Loss\": 1.2849, \"Accuracy\": 0.7100},\n",
        "    {\"Activation Function\": \"tanh\", \"Learning Rate\": 0.001, \"Validation Loss\": 0.4376, \"Accuracy\": 0.8500},\n",
        "    {\"Activation Function\": \"tanh\", \"Learning Rate\": 0.01, \"Validation Loss\": 0.6646, \"Accuracy\": 0.8600},\n",
        "    {\"Activation Function\": \"tanh\", \"Learning Rate\": 0.1, \"Validation Loss\": 1.1164, \"Accuracy\": 0.7500}\n",
        "]\n",
        "\n",
        "# Sort the results for each activation layer by Accuracy in descending order and highlight the best accuracy in red\n",
        "sorted_results = []\n",
        "activation_functions = set([result[\"Activation Function\"] for result in results])\n",
        "\n",
        "for activation_fn in activation_functions:\n",
        "    activation_results = [result for result in results if result[\"Activation Function\"] == activation_fn]\n",
        "    sorted_activation_results = sorted(activation_results, key=lambda x: x['Accuracy'], reverse=True)\n",
        "    best_accuracy = sorted_activation_results[0]['Accuracy']\n",
        "    for result in sorted_activation_results:\n",
        "        if result['Accuracy'] == best_accuracy:\n",
        "            result['Accuracy'] = f\"\\033[91m{result['Accuracy']:.4f}\\033[0m\"  # Highlight the best accuracy in red\n",
        "    sorted_results.extend(sorted_activation_results)\n",
        "    sorted_results.append({'Activation Function': '\\033[93m---------\\033[0m'})  # Yellow separating line\n",
        "\n",
        "# Display as table\n",
        "print(tabulate(sorted_results, headers='keys', tablefmt='psql', showindex=False))"
      ],
      "metadata": {
        "colab": {
          "base_uri": "https://localhost:8080/"
        },
        "id": "qhDF44MhoNAO",
        "outputId": "5e17189b-7996-4f81-e712-fefd41176a2c"
      },
      "execution_count": 18,
      "outputs": [
        {
          "output_type": "stream",
          "name": "stdout",
          "text": [
            "+-----------------------+-----------------+-------------------+------------+\n",
            "| Activation Function   |   Learning Rate |   Validation Loss |   Accuracy |\n",
            "|-----------------------+-----------------+-------------------+------------|\n",
            "| sigmoid               |           0.01  |            0.6696 |       \u001b[91m0.89\u001b[0m |\n",
            "| sigmoid               |           0.001 |            0.484  |       0.85 |\n",
            "| sigmoid               |           0.1   |            1.2849 |       0.71 |\n",
            "| \u001b[93m---------\u001b[0m             |                 |                   |            |\n",
            "| tanh                  |           0.01  |            0.6646 |       \u001b[91m0.86\u001b[0m |\n",
            "| tanh                  |           0.001 |            0.4376 |       0.85 |\n",
            "| tanh                  |           0.1   |            1.1164 |       0.75 |\n",
            "| \u001b[93m---------\u001b[0m             |                 |                   |            |\n",
            "| relu                  |           0.01  |            0.5577 |       \u001b[91m0.89\u001b[0m |\n",
            "| relu                  |           0.001 |            0.5206 |       0.84 |\n",
            "| relu                  |           0.1   |            0.9382 |       0.77 |\n",
            "| \u001b[93m---------\u001b[0m             |                 |                   |            |\n",
            "+-----------------------+-----------------+-------------------+------------+\n"
          ]
        }
      ]
    },
    {
      "cell_type": "code",
      "source": [
        "from tabulate import tabulate\n",
        "\n",
        "# Results data\n",
        "results = [\n",
        "    {\"Batch Size\": 32, \"Learning Rate\": 0.001, \"Validation Loss\": 0.5848, \"Accuracy\": 0.9000},\n",
        "    {\"Batch Size\": 32, \"Learning Rate\": 0.01, \"Validation Loss\": 0.7800, \"Accuracy\": 0.8900},\n",
        "    {\"Batch Size\": 32, \"Learning Rate\": 0.1, \"Validation Loss\": 1.7047, \"Accuracy\": 0.6200},\n",
        "    {\"Batch Size\": 64, \"Learning Rate\": 0.001, \"Validation Loss\": 0.5919, \"Accuracy\": 0.8900},\n",
        "    {\"Batch Size\": 64, \"Learning Rate\": 0.01, \"Validation Loss\": 0.5861, \"Accuracy\": 0.9100},\n",
        "    {\"Batch Size\": 64, \"Learning Rate\": 0.1, \"Validation Loss\": 1.2183, \"Accuracy\": 0.8000},\n",
        "    {\"Batch Size\": 128, \"Learning Rate\": 0.001, \"Validation Loss\": 0.5367, \"Accuracy\": 0.9000},\n",
        "    {\"Batch Size\": 128, \"Learning Rate\": 0.01, \"Validation Loss\": 0.6271, \"Accuracy\": 0.9100},\n",
        "    {\"Batch Size\": 128, \"Learning Rate\": 0.1, \"Validation Loss\": 0.9211, \"Accuracy\": 0.8500}\n",
        "]\n",
        "\n",
        "# Sort the results for each batch size by Accuracy in descending order and highlight the best accuracy in red\n",
        "sorted_results = []\n",
        "batch_sizes = set([result[\"Batch Size\"] for result in results])\n",
        "\n",
        "for batch_size in batch_sizes:\n",
        "    batch_size_results = [result for result in results if result[\"Batch Size\"] == batch_size]\n",
        "    sorted_batch_size_results = sorted(batch_size_results, key=lambda x: x['Accuracy'], reverse=True)\n",
        "    best_accuracy = sorted_batch_size_results[0]['Accuracy']\n",
        "    for result in sorted_batch_size_results:\n",
        "        if result['Accuracy'] == best_accuracy:\n",
        "            result['Accuracy'] = f\"\\033[91m{result['Accuracy']:.4f}\\033[0m\"  # Highlight the best accuracy in red\n",
        "    sorted_results.extend(sorted_batch_size_results)\n",
        "    sorted_results.append({'Batch Size': '\\033[93m---------\\033[0m'})  # Yellow separating line\n",
        "\n",
        "# Display as table\n",
        "print(tabulate(sorted_results, headers='keys', tablefmt='psql', showindex=False))"
      ],
      "metadata": {
        "colab": {
          "base_uri": "https://localhost:8080/"
        },
        "id": "qx6RhMp4q07O",
        "outputId": "d13f381c-5770-421f-f5bc-1e15956f04f1"
      },
      "execution_count": 19,
      "outputs": [
        {
          "output_type": "stream",
          "name": "stdout",
          "text": [
            "+--------------+-----------------+-------------------+------------+\n",
            "| Batch Size   |   Learning Rate |   Validation Loss |   Accuracy |\n",
            "|--------------+-----------------+-------------------+------------|\n",
            "| 32           |           0.001 |            0.5848 |       \u001b[91m0.9\u001b[0m  |\n",
            "| 32           |           0.01  |            0.78   |       0.89 |\n",
            "| 32           |           0.1   |            1.7047 |       0.62 |\n",
            "| \u001b[93m---------\u001b[0m    |                 |                   |            |\n",
            "| 64           |           0.01  |            0.5861 |       \u001b[91m0.91\u001b[0m |\n",
            "| 64           |           0.001 |            0.5919 |       0.89 |\n",
            "| 64           |           0.1   |            1.2183 |       0.8  |\n",
            "| \u001b[93m---------\u001b[0m    |                 |                   |            |\n",
            "| 128          |           0.01  |            0.6271 |       \u001b[91m0.91\u001b[0m |\n",
            "| 128          |           0.001 |            0.5367 |       0.9  |\n",
            "| 128          |           0.1   |            0.9211 |       0.85 |\n",
            "| \u001b[93m---------\u001b[0m    |                 |                   |            |\n",
            "+--------------+-----------------+-------------------+------------+\n"
          ]
        }
      ]
    }
  ],
  "metadata": {
    "accelerator": "GPU",
    "colab": {
      "gpuType": "T4",
      "provenance": []
    },
    "kernelspec": {
      "display_name": "Python 3 (ipykernel)",
      "language": "python",
      "name": "python3"
    },
    "language_info": {
      "codemirror_mode": {
        "name": "ipython",
        "version": 3
      },
      "file_extension": ".py",
      "mimetype": "text/x-python",
      "name": "python",
      "nbconvert_exporter": "python",
      "pygments_lexer": "ipython3",
      "version": "3.11.5"
    }
  },
  "nbformat": 4,
  "nbformat_minor": 0
}