{
 "cells": [
  {
   "cell_type": "code",
   "execution_count": 2,
   "metadata": {},
   "outputs": [
    {
     "name": "stdout",
     "output_type": "stream",
     "text": [
      "Collecting torch\n",
      "  Obtaining dependency information for torch from https://files.pythonhosted.org/packages/59/1f/4975d1ab3ed2244053876321ef65bc02935daed67da76c6e7d65900772a3/torch-2.2.1-cp311-cp311-win_amd64.whl.metadata\n",
      "  Downloading torch-2.2.1-cp311-cp311-win_amd64.whl.metadata (26 kB)\n",
      "Collecting torchvision\n",
      "  Obtaining dependency information for torchvision from https://files.pythonhosted.org/packages/e7/45/419aa0b37254f1fd62b45bb63836066c5eb81e37d70940e0491e95167eed/torchvision-0.17.1-cp311-cp311-win_amd64.whl.metadata\n",
      "  Downloading torchvision-0.17.1-cp311-cp311-win_amd64.whl.metadata (6.6 kB)\n",
      "Requirement already satisfied: filelock in c:\\users\\adhir\\anaconda3\\lib\\site-packages (from torch) (3.9.0)\n",
      "Collecting typing-extensions>=4.8.0 (from torch)\n",
      "  Obtaining dependency information for typing-extensions>=4.8.0 from https://files.pythonhosted.org/packages/f9/de/dc04a3ea60b22624b51c703a84bbe0184abcd1d0b9bc8074b5d6b7ab90bb/typing_extensions-4.10.0-py3-none-any.whl.metadata\n",
      "  Using cached typing_extensions-4.10.0-py3-none-any.whl.metadata (3.0 kB)\n",
      "Requirement already satisfied: sympy in c:\\users\\adhir\\anaconda3\\lib\\site-packages (from torch) (1.11.1)\n",
      "Requirement already satisfied: networkx in c:\\users\\adhir\\anaconda3\\lib\\site-packages (from torch) (3.1)\n",
      "Requirement already satisfied: jinja2 in c:\\users\\adhir\\anaconda3\\lib\\site-packages (from torch) (3.1.2)\n",
      "Requirement already satisfied: fsspec in c:\\users\\adhir\\anaconda3\\lib\\site-packages (from torch) (2023.4.0)\n",
      "Requirement already satisfied: numpy in c:\\users\\adhir\\anaconda3\\lib\\site-packages (from torchvision) (1.24.3)\n",
      "Requirement already satisfied: pillow!=8.3.*,>=5.3.0 in c:\\users\\adhir\\anaconda3\\lib\\site-packages (from torchvision) (9.4.0)\n",
      "Requirement already satisfied: MarkupSafe>=2.0 in c:\\users\\adhir\\anaconda3\\lib\\site-packages (from jinja2->torch) (2.1.1)\n",
      "Requirement already satisfied: mpmath>=0.19 in c:\\users\\adhir\\anaconda3\\lib\\site-packages (from sympy->torch) (1.3.0)\n",
      "Downloading torch-2.2.1-cp311-cp311-win_amd64.whl (198.6 MB)\n",
      "   ---------------------------------------- 0.0/198.6 MB ? eta -:--:--\n",
      "   ---------------------------------------- 0.1/198.6 MB 3.2 MB/s eta 0:01:03\n",
      "   ---------------------------------------- 1.0/198.6 MB 12.5 MB/s eta 0:00:16\n",
      "   ---------------------------------------- 2.0/198.6 MB 16.3 MB/s eta 0:00:13\n",
      "    --------------------------------------- 3.3/198.6 MB 18.9 MB/s eta 0:00:11\n",
      "    --------------------------------------- 4.7/198.6 MB 21.5 MB/s eta 0:00:10\n",
      "   - -------------------------------------- 6.0/198.6 MB 22.7 MB/s eta 0:00:09\n",
      "   - -------------------------------------- 7.7/198.6 MB 24.5 MB/s eta 0:00:08\n",
      "   - -------------------------------------- 8.8/198.6 MB 24.3 MB/s eta 0:00:08\n",
      "   - -------------------------------------- 9.6/198.6 MB 23.6 MB/s eta 0:00:08\n",
      "   -- ------------------------------------- 11.8/198.6 MB 28.5 MB/s eta 0:00:07\n",
      "   -- ------------------------------------- 13.2/198.6 MB 29.8 MB/s eta 0:00:07\n",
      "   --- ------------------------------------ 14.9/198.6 MB 31.2 MB/s eta 0:00:06\n",
      "   --- ------------------------------------ 16.4/198.6 MB 31.2 MB/s eta 0:00:06\n",
      "   --- ------------------------------------ 18.3/198.6 MB 31.1 MB/s eta 0:00:06\n",
      "   ---- ----------------------------------- 20.2/198.6 MB 36.4 MB/s eta 0:00:05\n",
      "   ---- ----------------------------------- 21.7/198.6 MB 34.4 MB/s eta 0:00:06\n",
      "   ---- ----------------------------------- 23.4/198.6 MB 34.4 MB/s eta 0:00:06\n",
      "   ---- ----------------------------------- 24.7/198.6 MB 34.6 MB/s eta 0:00:06\n",
      "   ----- ---------------------------------- 26.9/198.6 MB 38.6 MB/s eta 0:00:05\n",
      "   ----- ---------------------------------- 28.8/198.6 MB 36.4 MB/s eta 0:00:05\n",
      "   ------ --------------------------------- 30.5/198.6 MB 38.5 MB/s eta 0:00:05\n",
      "   ------ --------------------------------- 32.4/198.6 MB 36.3 MB/s eta 0:00:05\n",
      "   ------ --------------------------------- 33.9/198.6 MB 36.4 MB/s eta 0:00:05\n",
      "   ------- -------------------------------- 35.8/198.6 MB 36.4 MB/s eta 0:00:05\n",
      "   ------- -------------------------------- 37.6/198.6 MB 36.4 MB/s eta 0:00:05\n",
      "   ------- -------------------------------- 39.2/198.6 MB 36.4 MB/s eta 0:00:05\n",
      "   -------- ------------------------------- 41.2/198.6 MB 38.5 MB/s eta 0:00:05\n",
      "   -------- ------------------------------- 42.7/198.6 MB 36.4 MB/s eta 0:00:05\n",
      "   -------- ------------------------------- 44.5/198.6 MB 36.3 MB/s eta 0:00:05\n",
      "   --------- ------------------------------ 46.1/198.6 MB 36.3 MB/s eta 0:00:05\n",
      "   --------- ------------------------------ 47.8/198.6 MB 34.4 MB/s eta 0:00:05\n",
      "   --------- ------------------------------ 49.5/198.6 MB 36.4 MB/s eta 0:00:05\n",
      "   ---------- ----------------------------- 51.1/198.6 MB 34.4 MB/s eta 0:00:05\n",
      "   ---------- ----------------------------- 53.0/198.6 MB 34.4 MB/s eta 0:00:05\n",
      "   ---------- ----------------------------- 54.4/198.6 MB 32.7 MB/s eta 0:00:05\n",
      "   ----------- ---------------------------- 56.0/198.6 MB 34.4 MB/s eta 0:00:05\n",
      "   ----------- ---------------------------- 57.9/198.6 MB 34.4 MB/s eta 0:00:05\n",
      "   ------------ --------------------------- 59.8/198.6 MB 38.5 MB/s eta 0:00:04\n",
      "   ------------ --------------------------- 61.5/198.6 MB 36.4 MB/s eta 0:00:04\n",
      "   ------------ --------------------------- 63.1/198.6 MB 36.4 MB/s eta 0:00:04\n",
      "   ------------- -------------------------- 65.1/198.6 MB 38.6 MB/s eta 0:00:04\n",
      "   ------------- -------------------------- 66.8/198.6 MB 40.9 MB/s eta 0:00:04\n",
      "   ------------- -------------------------- 69.2/198.6 MB 38.5 MB/s eta 0:00:04\n",
      "   -------------- ------------------------- 71.2/198.6 MB 40.9 MB/s eta 0:00:04\n",
      "   -------------- ------------------------- 73.3/198.6 MB 43.7 MB/s eta 0:00:03\n",
      "   --------------- ------------------------ 75.0/198.6 MB 40.9 MB/s eta 0:00:04\n",
      "   --------------- ------------------------ 77.2/198.6 MB 46.7 MB/s eta 0:00:03\n",
      "   --------------- ------------------------ 78.8/198.6 MB 40.9 MB/s eta 0:00:03\n",
      "   ---------------- ----------------------- 80.8/198.6 MB 38.6 MB/s eta 0:00:04\n",
      "   ---------------- ----------------------- 82.6/198.6 MB 40.9 MB/s eta 0:00:03\n",
      "   ---------------- ----------------------- 84.2/198.6 MB 38.6 MB/s eta 0:00:03\n",
      "   ----------------- ---------------------- 86.2/198.6 MB 36.4 MB/s eta 0:00:04\n",
      "   ----------------- ---------------------- 88.0/198.6 MB 38.5 MB/s eta 0:00:03\n",
      "   ------------------ --------------------- 89.8/198.6 MB 40.9 MB/s eta 0:00:03\n",
      "   ------------------ --------------------- 91.9/198.6 MB 38.5 MB/s eta 0:00:03\n",
      "   ------------------ --------------------- 93.9/198.6 MB 40.9 MB/s eta 0:00:03\n",
      "   ------------------- -------------------- 95.8/198.6 MB 38.6 MB/s eta 0:00:03\n",
      "   ------------------- -------------------- 97.8/198.6 MB 40.9 MB/s eta 0:00:03\n",
      "   -------------------- ------------------- 99.6/198.6 MB 40.9 MB/s eta 0:00:03\n",
      "   ------------------- ------------------- 101.3/198.6 MB 38.5 MB/s eta 0:00:03\n",
      "   -------------------- ------------------ 103.4/198.6 MB 40.9 MB/s eta 0:00:03\n",
      "   -------------------- ------------------ 105.2/198.6 MB 38.5 MB/s eta 0:00:03\n",
      "   --------------------- ----------------- 107.2/198.6 MB 40.9 MB/s eta 0:00:03\n",
      "   --------------------- ----------------- 108.9/198.6 MB 38.5 MB/s eta 0:00:03\n",
      "   --------------------- ----------------- 111.1/198.6 MB 43.7 MB/s eta 0:00:03\n",
      "   ---------------------- ---------------- 113.0/198.6 MB 40.9 MB/s eta 0:00:03\n",
      "   ---------------------- ---------------- 114.4/198.6 MB 40.9 MB/s eta 0:00:03\n",
      "   ---------------------- ---------------- 116.0/198.6 MB 38.5 MB/s eta 0:00:03\n",
      "   ----------------------- --------------- 117.9/198.6 MB 36.4 MB/s eta 0:00:03\n",
      "   ----------------------- --------------- 119.3/198.6 MB 36.4 MB/s eta 0:00:03\n",
      "   ----------------------- --------------- 120.9/198.6 MB 36.3 MB/s eta 0:00:03\n",
      "   ------------------------ -------------- 122.6/198.6 MB 34.4 MB/s eta 0:00:03\n",
      "   ------------------------ -------------- 124.4/198.6 MB 34.6 MB/s eta 0:00:03\n",
      "   ------------------------ -------------- 126.4/198.6 MB 36.4 MB/s eta 0:00:02\n",
      "   ------------------------- ------------- 128.3/198.6 MB 36.4 MB/s eta 0:00:02\n",
      "   ------------------------- ------------- 129.9/198.6 MB 38.5 MB/s eta 0:00:02\n",
      "   ------------------------- ------------- 131.7/198.6 MB 38.5 MB/s eta 0:00:02\n",
      "   -------------------------- ------------ 133.7/198.6 MB 36.4 MB/s eta 0:00:02\n",
      "   -------------------------- ------------ 134.8/198.6 MB 38.5 MB/s eta 0:00:02\n",
      "   -------------------------- ------------ 137.0/198.6 MB 36.4 MB/s eta 0:00:02\n",
      "   --------------------------- ----------- 139.0/198.6 MB 38.5 MB/s eta 0:00:02\n",
      "   --------------------------- ----------- 140.4/198.6 MB 36.4 MB/s eta 0:00:02\n",
      "   --------------------------- ----------- 142.5/198.6 MB 38.5 MB/s eta 0:00:02\n",
      "   ---------------------------- ---------- 144.5/198.6 MB 38.5 MB/s eta 0:00:02\n",
      "   ---------------------------- ---------- 146.3/198.6 MB 38.5 MB/s eta 0:00:02\n",
      "   ----------------------------- --------- 148.0/198.6 MB 38.6 MB/s eta 0:00:02\n",
      "   ----------------------------- --------- 149.6/198.6 MB 38.6 MB/s eta 0:00:02\n",
      "   ----------------------------- --------- 151.4/198.6 MB 38.6 MB/s eta 0:00:02\n",
      "   ------------------------------ -------- 153.1/198.6 MB 36.3 MB/s eta 0:00:02\n",
      "   ------------------------------ -------- 154.7/198.6 MB 36.4 MB/s eta 0:00:02\n",
      "   ------------------------------ -------- 156.6/198.6 MB 34.6 MB/s eta 0:00:02\n",
      "   ------------------------------- ------- 158.1/198.6 MB 34.4 MB/s eta 0:00:02\n",
      "   ------------------------------- ------- 159.9/198.6 MB 36.4 MB/s eta 0:00:02\n",
      "   ------------------------------- ------- 161.7/198.6 MB 36.4 MB/s eta 0:00:02\n",
      "   -------------------------------- ------ 163.4/198.6 MB 36.4 MB/s eta 0:00:01\n",
      "   -------------------------------- ------ 165.1/198.6 MB 36.4 MB/s eta 0:00:01\n",
      "   -------------------------------- ------ 167.0/198.6 MB 38.5 MB/s eta 0:00:01\n",
      "   --------------------------------- ----- 168.8/198.6 MB 36.3 MB/s eta 0:00:01\n",
      "   --------------------------------- ----- 170.6/198.6 MB 36.4 MB/s eta 0:00:01\n",
      "   --------------------------------- ----- 171.6/198.6 MB 34.4 MB/s eta 0:00:01\n",
      "   --------------------------------- ----- 172.7/198.6 MB 32.8 MB/s eta 0:00:01\n",
      "   ---------------------------------- ---- 174.4/198.6 MB 32.8 MB/s eta 0:00:01\n",
      "   ---------------------------------- ---- 176.0/198.6 MB 32.7 MB/s eta 0:00:01\n",
      "   ---------------------------------- ---- 177.9/198.6 MB 32.7 MB/s eta 0:00:01\n",
      "   ----------------------------------- --- 179.7/198.6 MB 32.7 MB/s eta 0:00:01\n",
      "   ----------------------------------- --- 181.3/198.6 MB 32.7 MB/s eta 0:00:01\n",
      "   ----------------------------------- --- 183.0/198.6 MB 36.4 MB/s eta 0:00:01\n",
      "   ------------------------------------ -- 184.9/198.6 MB 36.4 MB/s eta 0:00:01\n",
      "   ------------------------------------ -- 186.6/198.6 MB 36.4 MB/s eta 0:00:01\n",
      "   ------------------------------------ -- 188.2/198.6 MB 36.4 MB/s eta 0:00:01\n",
      "   ------------------------------------- - 189.8/198.6 MB 36.4 MB/s eta 0:00:01\n",
      "   ------------------------------------- - 191.5/198.6 MB 36.4 MB/s eta 0:00:01\n",
      "   ------------------------------------- - 193.1/198.6 MB 36.3 MB/s eta 0:00:01\n",
      "   --------------------------------------  194.8/198.6 MB 34.4 MB/s eta 0:00:01\n",
      "   --------------------------------------  196.3/198.6 MB 32.8 MB/s eta 0:00:01\n",
      "   --------------------------------------  197.9/198.6 MB 34.4 MB/s eta 0:00:01\n",
      "   --------------------------------------  198.6/198.6 MB 32.7 MB/s eta 0:00:01\n",
      "   --------------------------------------  198.6/198.6 MB 32.7 MB/s eta 0:00:01\n",
      "   --------------------------------------  198.6/198.6 MB 32.7 MB/s eta 0:00:01\n",
      "   --------------------------------------  198.6/198.6 MB 32.7 MB/s eta 0:00:01\n",
      "   --------------------------------------  198.6/198.6 MB 32.7 MB/s eta 0:00:01\n",
      "   --------------------------------------  198.6/198.6 MB 32.7 MB/s eta 0:00:01\n",
      "   --------------------------------------  198.6/198.6 MB 32.7 MB/s eta 0:00:01\n",
      "   --------------------------------------  198.6/198.6 MB 32.7 MB/s eta 0:00:01\n",
      "   --------------------------------------  198.6/198.6 MB 32.7 MB/s eta 0:00:01\n",
      "   --------------------------------------  198.6/198.6 MB 32.7 MB/s eta 0:00:01\n",
      "   --------------------------------------  198.6/198.6 MB 32.7 MB/s eta 0:00:01\n",
      "   --------------------------------------  198.6/198.6 MB 32.7 MB/s eta 0:00:01\n",
      "   --------------------------------------  198.6/198.6 MB 32.7 MB/s eta 0:00:01\n",
      "   --------------------------------------  198.6/198.6 MB 32.7 MB/s eta 0:00:01\n",
      "   ---------------------------------------- 198.6/198.6 MB 8.0 MB/s eta 0:00:00\n",
      "Downloading torchvision-0.17.1-cp311-cp311-win_amd64.whl (1.2 MB)\n",
      "   ---------------------------------------- 0.0/1.2 MB ? eta -:--:--\n",
      "   ---------------------------------------- 1.2/1.2 MB 36.1 MB/s eta 0:00:00\n",
      "Using cached typing_extensions-4.10.0-py3-none-any.whl (33 kB)\n",
      "Installing collected packages: typing-extensions, torch, torchvision\n",
      "  Attempting uninstall: typing-extensions\n",
      "    Found existing installation: typing_extensions 4.7.1\n",
      "    Uninstalling typing_extensions-4.7.1:\n",
      "      Successfully uninstalled typing_extensions-4.7.1\n",
      "Successfully installed torch-2.2.1 torchvision-0.17.1 typing-extensions-4.10.0\n"
     ]
    }
   ],
   "source": [
    "!pip install torch torchvision"
   ]
  },
  {
   "cell_type": "code",
   "execution_count": 1,
   "metadata": {
    "id": "Su0COdCqT2Wk"
   },
   "outputs": [],
   "source": [
    "## import libraries\n",
    "from __future__ import print_function\n",
    "import argparse\n",
    "import torch\n",
    "import torch.nn as nn\n",
    "import torch.nn.functional as F\n",
    "import torchvision\n",
    "\n",
    "import torch.optim as optim\n",
    "from torchvision import datasets, transforms\n",
    "from torch.autograd import Variable"
   ]
  },
  {
   "cell_type": "markdown",
   "metadata": {
    "id": "9XHd5ExbUIUg"
   },
   "source": [
    "# Pytorch with the MNIST Dataset - MINST"
   ]
  },
  {
   "cell_type": "code",
   "execution_count": 2,
   "metadata": {
    "id": "rXCYmmjyVRq5"
   },
   "outputs": [
    {
     "name": "stdout",
     "output_type": "stream",
     "text": [
      "2.2.1+cpu\n"
     ]
    }
   ],
   "source": [
    "print(torch.__version__)"
   ]
  },
  {
   "cell_type": "code",
   "execution_count": 3,
   "metadata": {
    "id": "Fp3VqwxU9teg"
   },
   "outputs": [],
   "source": [
    "args={}\n",
    "kwargs={}\n",
    "args['batch_size']=32\n",
    "args['test_batch_size']=32\n",
    "args['epochs']=1  #The number of Epochs is the number of times you go through the full dataset.\n",
    "args['lr']=0.01 #Learning rate is how fast it will decend.\n",
    "args['momentum']=0.5 #SGD momentum (default: 0.5) Momentum is a moving average of our gradients (helps to keep direction).\n",
    "\n",
    "args['seed']=1 #random seed\n",
    "args['log_interval']=10\n",
    "args['cuda']=True #if the computer has a GPU, type True, otherwise, False"
   ]
  },
  {
   "cell_type": "markdown",
   "metadata": {
    "id": "ys8268Yr6sAC"
   },
   "source": [
    "This code is adopted from the pytorch examples repository. It is licensed under BSD 3-Clause \"New\" or \"Revised\" License. Source: https://github.com/pytorch/examples/ LICENSE: https://github.com/pytorch/examples/blob/master/LICENSE"
   ]
  },
  {
   "cell_type": "markdown",
   "metadata": {
    "id": "hhuQyU7AYE6K"
   },
   "source": [
    "## Load Dataset\n",
    "The first step before training the model is to import the data. We will use the [MNIST dataset](http://yann.lecun.com/exdb/mnist/) which is like the Hello World dataset of machine learning.\n",
    "\n",
    "Besides importing the data, we will also do a few more things:\n",
    "- We will tranform the data into tensors using the `transforms` module\n",
    "- We will use `DataLoader` to build convenient data loaders or what are referred to as iterators, which makes it easy to efficiently feed data in batches to deep learning models.\n",
    "- As hinted above, we will also create batches of the data by setting the `batch` parameter inside the data loader. Notice we use batches of `32` in this tutorial but you can change it to `64` if you like. I encourage you to experiment with different batches."
   ]
  },
  {
   "cell_type": "code",
   "execution_count": 5,
   "metadata": {
    "id": "tSjjLXrOVWBy"
   },
   "outputs": [],
   "source": [
    "## transformations\n",
    "transform = transforms.Compose([\n",
    "                       transforms.ToTensor(),\n",
    "                       transforms.Normalize((0.1307,), (0.3081,))\n",
    "                   ])\n",
    "\n",
    "## download and load training dataset\n",
    "trainset = datasets.MNIST(root='../data', train=True, download=True, transform=transform)\n",
    "train_loader = torch.utils.data.DataLoader(trainset, batch_size=args['batch_size'], shuffle=True, **kwargs)\n",
    "\n",
    "## download and load testing dataset\n",
    "testset = torchvision.datasets.MNIST(root='./data', train=False, download=True, transform=transform)\n",
    "test_loader = torch.utils.data.DataLoader(testset, batch_size=args['test_batch_size'], shuffle=True, **kwargs)"
   ]
  },
  {
   "cell_type": "markdown",
   "metadata": {
    "id": "0nZwZukWXUDn"
   },
   "source": [
    "## Exploring the Data\n",
    "As a practioner and researcher, I am always spending a bit of time and effort exploring and understanding the dataset. It's fun and this is a good practise to ensure that everything is in order."
   ]
  },
  {
   "cell_type": "markdown",
   "metadata": {
    "id": "NW_loWKga7CH"
   },
   "source": [
    "Let's check what the train and test dataset contains. I will use `matplotlib` to print out some of the images from our dataset."
   ]
  },
  {
   "cell_type": "code",
   "execution_count": null,
   "metadata": {
    "id": "zWd9Pt1Ca6K9"
   },
   "outputs": [
    {
     "name": "stderr",
     "output_type": "stream",
     "text": [
      "Clipping input data to the valid range for imshow with RGB data ([0..1] for floats or [0..255] for integers).\n"
     ]
    }
   ],
   "source": [
    "import matplotlib.pyplot as plt\n",
    "import numpy as np\n",
    "\n",
    "## functions to show an image\n",
    "def imshow(img):\n",
    "    #img = img / 2 + 0.5     # unnormalize\n",
    "    npimg = img.numpy()\n",
    "    plt.imshow(np.transpose(npimg, (1, 2, 0)))\n",
    "\n",
    "## get some random training images\n",
    "dataiter = iter(train_loader)\n",
    "images, labels = next(dataiter)\n",
    "\n",
    "## show images\n",
    "imshow(torchvision.utils.make_grid(images))"
   ]
  },
  {
   "cell_type": "markdown",
   "metadata": {
    "id": "d9mXAVmRvhrq"
   },
   "source": [
    "Let's check the dimensions of a batch."
   ]
  },
  {
   "cell_type": "code",
   "execution_count": 1,
   "metadata": {
    "id": "cNFKWz1GZ4R5"
   },
   "outputs": [
    {
     "ename": "NameError",
     "evalue": "name 'train_loader' is not defined",
     "output_type": "error",
     "traceback": [
      "\u001b[1;31m---------------------------------------------------------------------------\u001b[0m",
      "\u001b[1;31mNameError\u001b[0m                                 Traceback (most recent call last)",
      "Cell \u001b[1;32mIn[1], line 1\u001b[0m\n\u001b[1;32m----> 1\u001b[0m \u001b[38;5;28;01mfor\u001b[39;00m images, labels \u001b[38;5;129;01min\u001b[39;00m train_loader:\n\u001b[0;32m      2\u001b[0m     \u001b[38;5;28mprint\u001b[39m(\u001b[38;5;124m\"\u001b[39m\u001b[38;5;124mImage batch dimensions:\u001b[39m\u001b[38;5;124m\"\u001b[39m, images\u001b[38;5;241m.\u001b[39mshape)\n\u001b[0;32m      3\u001b[0m     \u001b[38;5;28mprint\u001b[39m(\u001b[38;5;124m\"\u001b[39m\u001b[38;5;124mImage label dimensions:\u001b[39m\u001b[38;5;124m\"\u001b[39m, labels\u001b[38;5;241m.\u001b[39mshape)\n",
      "\u001b[1;31mNameError\u001b[0m: name 'train_loader' is not defined"
     ]
    }
   ],
   "source": [
    "for images, labels in train_loader:\n",
    "    print(\"Image batch dimensions:\", images.shape)\n",
    "    print(\"Image label dimensions:\", labels.shape)\n",
    "    break"
   ]
  },
  {
   "cell_type": "markdown",
   "metadata": {
    "id": "tmaCTw5tXowR"
   },
   "source": [
    "## The Model\n",
    "We provide two fully-connected neural net as the initial architecture.\n",
    "\n",
    "Here are a few notes for those who are beginning with PyTorch:\n",
    "- The model below consists of an `__init__()` portion which is where you include the layers and components of the neural network. In our model, we have two fully-connected netork network. We are dealing with an image dataset that is in a grayscale so we only need one channel going in, hence `in_channels=1`.\n",
    "\n",
    "- After the first layer, we also apply an activation function such as `ReLU`. For prediction purposes, we then apply a `softmax` layer to the last transformation and return the output of that.  "
   ]
  },
  {
   "cell_type": "code",
   "execution_count": null,
   "metadata": {
    "id": "_IYnV4ZBa3cJ"
   },
   "outputs": [],
   "source": [
    "class Net(nn.Module):\n",
    "    #This defines the structure of the NN.\n",
    "    def __init__(self):\n",
    "        super(Net, self).__init__()\n",
    "        self.fc1 = nn.Linear(784, 256)\n",
    "        self.fc2 = nn.Linear(256, 10)\n",
    "\n",
    "    def forward(self, x):\n",
    "        x=x.view(-1,784)\n",
    "        x = F.relu(self.fc1(x))\n",
    "        x = self.fc2(x)\n",
    "\n",
    "        #Softmax gets probabilities.\n",
    "        return F.log_softmax(x, dim=1)\n"
   ]
  },
  {
   "cell_type": "markdown",
   "metadata": {
    "id": "ZqgR0prhZD3z"
   },
   "source": [
    "**Now, add one CNN layer with a pooling to the above neural network and rerun the code to see whether you get higher prediction accuracy on the test set.**\n",
    "\n",
    "For example, you may try `out_channels=32`. Kernel size is 5, and for the rest of parameters we use the default values which you can find [here](https://pytorch.org/docs/stable/nn.html?highlight=conv2d#conv2d).\n",
    "\n",
    "- In short, the convolutional layer transforms the input data into a specific dimension that has to be considered in the linear layer.\n",
    "\n",
    "Make sure your flatten the output of CNN layer excluding # of batch so that the input of each example/batch has the same size of the first neural net.\n",
    "\n",
    "Tips: You can use x.view(-1, # of input size of the first fully-connected layer) or you can use torch.flatten(x, 1)."
   ]
  },
  {
   "cell_type": "markdown",
   "metadata": {
    "id": "evsFbkq_X6bc"
   },
   "source": [
    "I always encourage to test the model with 1 batch to ensure that the output dimensions are what we expect."
   ]
  },
  {
   "cell_type": "code",
   "execution_count": null,
   "metadata": {
    "id": "tRkFvePEZCHd"
   },
   "outputs": [],
   "source": []
  },
  {
   "cell_type": "code",
   "execution_count": null,
   "metadata": {
    "id": "1poxFYqftKov"
   },
   "outputs": [],
   "source": [
    "## test the model with 1 batch\n",
    "model = Net()\n",
    "#print(model)\n",
    "for images, labels in train_loader:\n",
    "    print(\"batch size:\", args['batch_size'])\n",
    "    out = model(images)\n",
    "    print(out.shape)\n",
    "    break"
   ]
  },
  {
   "cell_type": "markdown",
   "metadata": {
    "id": "9h_3eZQRHV_P"
   },
   "source": [
    "## Training the Model\n",
    "Now we are ready to train the model."
   ]
  },
  {
   "cell_type": "code",
   "execution_count": null,
   "metadata": {
    "id": "E59hwZlAIVcL"
   },
   "outputs": [],
   "source": [
    "def train(epoch):\n",
    "    model.train()\n",
    "    for batch_idx, (data, target) in enumerate(train_loader):\n",
    "        if args['cuda']:\n",
    "            data, target = data.cuda(), target.cuda()\n",
    "        #Variables in Pytorch are differenciable.\n",
    "        data, target = Variable(data), Variable(target)\n",
    "        #This will zero out the gradients for this batch.\n",
    "        optimizer.zero_grad()\n",
    "        output = model(data)\n",
    "        # Calculate the loss The negative log likelihood loss. It is useful to train a classification problem with C classes.\n",
    "        loss = F.nll_loss(output, target)\n",
    "        #dloss/dx for every Variable\n",
    "        loss.backward()\n",
    "        #to do a one-step update on our parameter.\n",
    "        optimizer.step()\n",
    "        #Print out the loss periodically.\n",
    "        if batch_idx % args['log_interval'] == 0:\n",
    "            print('Train Epoch: {} [{}/{} ({:.0f}%)]\\tLoss: {:.6f}'.format(\n",
    "                epoch, batch_idx * len(data), len(train_loader.dataset),\n",
    "                100. * batch_idx / len(train_loader), loss.data.item()))"
   ]
  },
  {
   "cell_type": "code",
   "execution_count": null,
   "metadata": {
    "id": "dmoO9DlN_Ir6"
   },
   "outputs": [],
   "source": [
    "def test():\n",
    "    model.eval()\n",
    "    test_loss = 0\n",
    "    correct = 0\n",
    "\n",
    "    with torch.no_grad():\n",
    "      for data, target in test_loader:\n",
    "          if args['cuda']:\n",
    "              data, target = data.cuda(), target.cuda()\n",
    "          data, target = Variable(data), Variable(target)\n",
    "          output = model(data)\n",
    "          test_loss += F.nll_loss(output, target, size_average=False).data.item() # sum up batch loss\n",
    "          pred = output.data.max(1, keepdim=True)[1] # get the index of the max log-probability\n",
    "          correct += pred.eq(target.data.view_as(pred)).long().cpu().sum()\n",
    "\n",
    "    test_loss /= len(test_loader.dataset)\n",
    "    print('\\nTest set: Average loss: {:.4f}, Accuracy: {}/{} ({:.0f}%)\\n'.format(\n",
    "        test_loss, correct, len(test_loader.dataset),\n",
    "        100. * correct / len(test_loader.dataset)))"
   ]
  },
  {
   "cell_type": "code",
   "execution_count": null,
   "metadata": {
    "id": "PQcWwu_A_2gx"
   },
   "outputs": [],
   "source": [
    "model = Net()\n",
    "if args['cuda']:\n",
    "    model.cuda()\n",
    "\n",
    "optimizer = optim.SGD(model.parameters(), lr=args['lr'], momentum=args['momentum'])\n",
    "\n",
    "for epoch in range(1, args['epochs'] + 1):\n",
    "    train(epoch)\n",
    "    test()"
   ]
  },
  {
   "cell_type": "code",
   "execution_count": null,
   "metadata": {
    "id": "9m3--4A-nDL-"
   },
   "outputs": [],
   "source": []
  }
 ],
 "metadata": {
  "accelerator": "GPU",
  "colab": {
   "gpuType": "T4",
   "provenance": []
  },
  "kernelspec": {
   "display_name": "Python 3 (ipykernel)",
   "language": "python",
   "name": "python3"
  },
  "language_info": {
   "codemirror_mode": {
    "name": "ipython",
    "version": 3
   },
   "file_extension": ".py",
   "mimetype": "text/x-python",
   "name": "python",
   "nbconvert_exporter": "python",
   "pygments_lexer": "ipython3",
   "version": "3.11.5"
  }
 },
 "nbformat": 4,
 "nbformat_minor": 1
}
